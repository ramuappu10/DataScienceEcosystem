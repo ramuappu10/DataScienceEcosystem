{
 "cells": [
  {
   "cell_type": "markdown",
   "id": "23b9d5a2",
   "metadata": {},
   "source": [
    "Data Science tools and Ecosystem"
   ]
  },
  {
   "cell_type": "markdown",
   "id": "aee41ebb",
   "metadata": {},
   "source": [
    "In this notebook, Data Science Tools and Ecosystem are summarized."
   ]
  },
  {
   "cell_type": "markdown",
   "id": "39a01197",
   "metadata": {},
   "source": [
    "Objectives:\n",
    "    > List the popular data science languages\n",
    "    > To open and use Jupyter notebook and Github\n",
    "    > Learnt about datascience tools including RStudio\n",
    "    > Learnt about the open source development environments"
   ]
  },
  {
   "cell_type": "markdown",
   "id": "9b716667",
   "metadata": {},
   "source": [
    "Some of the popular languages that Data Scientists use are:\n",
    "    PYTHON\n",
    "    JULIA\n",
    "    R\n",
    "    JAVA\n",
    "    SQL"
   ]
  },
  {
   "cell_type": "markdown",
   "id": "b8f8169a",
   "metadata": {},
   "source": [
    "Some of the commonly used libraries used by Data Scientists include:\n",
    "    MATPLOTLIB\n",
    "    SCIKIT LEARN\n",
    "    PANDAS\n",
    "    NUMPY\n",
    "    GGPLOT"
   ]
  },
  {
   "cell_type": "markdown",
   "id": "f30c6472",
   "metadata": {},
   "source": [
    "_____________________\n",
    "| Data science tools |\n",
    "|___________________ |\n",
    "| RStudio            |\n",
    "| Apache Spark       |\n",
    "| Tensorflow         |\n",
    "|___________________ |"
   ]
  },
  {
   "cell_type": "markdown",
   "id": "6a446887",
   "metadata": {},
   "source": [
    "Below are a few examples of evaluating arithmetic expressions in Python:"
   ]
  },
  {
   "cell_type": "code",
   "execution_count": 1,
   "id": "4f7e6487",
   "metadata": {},
   "outputs": [
    {
     "data": {
      "text/plain": [
       "17"
      ]
     },
     "execution_count": 1,
     "metadata": {},
     "output_type": "execute_result"
    }
   ],
   "source": [
    "#This a simple arithmetic expression to mutiply then add integers\n",
    "(3*4)+5"
   ]
  },
  {
   "cell_type": "code",
   "execution_count": 2,
   "id": "79c36aea",
   "metadata": {},
   "outputs": [
    {
     "data": {
      "text/plain": [
       "3.3333333333333335"
      ]
     },
     "execution_count": 2,
     "metadata": {},
     "output_type": "execute_result"
    }
   ],
   "source": [
    "#This will convert 200 minutes to hours by diving by 60\n",
    "200/60"
   ]
  },
  {
   "cell_type": "code",
   "execution_count": null,
   "id": "ef90e014",
   "metadata": {},
   "outputs": [],
   "source": [
    "9-hourstominutes.png"
   ]
  },
  {
   "cell_type": "markdown",
   "id": "b5c11ab8",
   "metadata": {},
   "source": [
    "Author\n",
    "Sriram R"
   ]
  }
 ],
 "metadata": {
  "kernelspec": {
   "display_name": "Python 3 (ipykernel)",
   "language": "python",
   "name": "python3"
  },
  "language_info": {
   "codemirror_mode": {
    "name": "ipython",
    "version": 3
   },
   "file_extension": ".py",
   "mimetype": "text/x-python",
   "name": "python",
   "nbconvert_exporter": "python",
   "pygments_lexer": "ipython3",
   "version": "3.11.3"
  }
 },
 "nbformat": 4,
 "nbformat_minor": 5
}
